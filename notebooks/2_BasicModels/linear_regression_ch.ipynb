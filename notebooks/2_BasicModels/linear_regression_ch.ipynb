{
 "cells": [
  {
   "cell_type": "markdown",
   "metadata": {},
   "source": [
    "# 使用TensorFlow实现线性回归"
   ]
  },
  {
   "cell_type": "code",
   "execution_count": 3,
   "metadata": {},
   "outputs": [],
   "source": [
    "import tensorflow as tf\n",
    "import numpy as np\n",
    "import matplotlib.pyplot as plt\n",
    "rng = np.random"
   ]
  },
  {
   "cell_type": "code",
   "execution_count": 8,
   "metadata": {
    "collapsed": true
   },
   "outputs": [],
   "source": [
    "# 设置学习参数\n",
    "learning_rate = 0.0001\n",
    "training_epochs = 1000\n",
    "display_step = 50"
   ]
  },
  {
   "cell_type": "code",
   "execution_count": 9,
   "metadata": {
    "collapsed": true
   },
   "outputs": [],
   "source": [
    "# 训练数据\n",
    "train_X = np.array([3.3,4.4,5.5,6.71,6.93,4.168,9.779,6.182,7.59,2.167,7.042,10.791,5.313,7.997,5.654,9.27,3.1])\n",
    "train_Y = np.array([1.7,2.76,2.09,3.19,1.694,1.573,3.366,2.596,2.53,1.221,2.827,3.465,1.65,2.904,2.42,2.94,1.3])\n",
    "n_samples = train_X.shape[0]"
   ]
  },
  {
   "cell_type": "code",
   "execution_count": 10,
   "metadata": {
    "collapsed": true
   },
   "outputs": [],
   "source": [
    "# 设计计算图\n",
    "X = tf.placeholder(dtype=tf.float32)\n",
    "Y = tf.placeholder(dtype=tf.float32)\n",
    "\n",
    "# 设置权重变量\n",
    "W = tf.Variable(rng.randn(), name=\"weight\")\n",
    "b = tf.Variable(rng.randn(), name=\"bias\")\n",
    "\n",
    "pred = tf.add(tf.multiply(X, W), b)"
   ]
  },
  {
   "cell_type": "code",
   "execution_count": 11,
   "metadata": {},
   "outputs": [],
   "source": [
    "# 设计损失函数\n",
    "cost = tf.reduce_sum(tf.pow(pred-Y, 2)) / (2 * n_samples)\n",
    "# 优化器\n",
    "optimizer = tf.train.GradientDescentOptimizer(learning_rate).minimize(cost)"
   ]
  },
  {
   "cell_type": "code",
   "execution_count": 12,
   "metadata": {
    "collapsed": true
   },
   "outputs": [],
   "source": [
    "# 全局变量初始化操作\n",
    "init = tf.global_variables_initializer()"
   ]
  },
  {
   "cell_type": "code",
   "execution_count": 21,
   "metadata": {},
   "outputs": [
    {
     "name": "stdout",
     "output_type": "stream",
     "text": [
      "Epoch: 0050 Cost: 6.918344975 W = -0.210427 b = 0.139689\n",
      "Epoch: 0100 Cost: 4.439534664 W = -0.100466 b = 0.155561\n",
      "Epoch: 0150 Cost: 2.861622334 W = -0.012745 b = 0.168296\n",
      "Epoch: 0200 Cost: 1.857179046 W = 0.057232 b = 0.178527\n",
      "Epoch: 0250 Cost: 1.217778921 W = 0.113053 b = 0.186761\n",
      "Epoch: 0300 Cost: 0.810747862 W = 0.157578 b = 0.193401\n",
      "Epoch: 0350 Cost: 0.551635385 W = 0.193093 b = 0.198770\n",
      "Epoch: 0400 Cost: 0.386681080 W = 0.221418 b = 0.203125\n",
      "Epoch: 0450 Cost: 0.281664819 W = 0.244006 b = 0.206671\n",
      "Epoch: 0500 Cost: 0.214801297 W = 0.262019 b = 0.209570\n",
      "Epoch: 0550 Cost: 0.172228426 W = 0.276379 b = 0.211954\n",
      "Epoch: 0600 Cost: 0.145115927 W = 0.287827 b = 0.213927\n",
      "Epoch: 0650 Cost: 0.127845600 W = 0.296950 b = 0.215572\n",
      "Epoch: 0700 Cost: 0.116841629 W = 0.304219 b = 0.216956\n",
      "Epoch: 0750 Cost: 0.109826513 W = 0.310008 b = 0.218130\n",
      "Epoch: 0800 Cost: 0.105350249 W = 0.314618 b = 0.219138\n",
      "Epoch: 0850 Cost: 0.102491230 W = 0.318285 b = 0.220012\n",
      "Epoch: 0900 Cost: 0.100661375 W = 0.321201 b = 0.220780\n",
      "Epoch: 0950 Cost: 0.099486865 W = 0.323517 b = 0.221464\n",
      "Epoch: 1000 Cost: 0.098729692 W = 0.325356 b = 0.222080\n",
      "Training Finished!\n",
      "Training Cost : 0.098730\n"
     ]
    },
    {
     "data": {
      "image/png": "[encoded data removed]",
      "text/plain": [
       "<matplotlib.figure.Figure at 0x7f3286d550f0>"
      ]
     },
     "metadata": {},
     "output_type": "display_data"
    }
   ],
   "source": [
    "# 开始训练\n",
    "with tf.Session() as sess:\n",
    "    sess.run(init)\n",
    "    for epoch in range(training_epochs):\n",
    "        for (x,y) in zip(train_X, train_Y):\n",
    "            sess.run(optimizer, feed_dict={X:x, Y:y})\n",
    "            \n",
    "        if (epoch +1) % display_step == 0:\n",
    "            c= sess.run(cost, feed_dict={X:train_X, Y:train_Y})\n",
    "            print(\"Epoch: %04d\" % (epoch + 1) + \" Cost: {:.9f}\".format(c) + \" W = %f\" % sess.run(W) + \" b = %f\" % sess.run(b))\n",
    "            \n",
    "    print(\"Training Finished!\")\n",
    "    training_cost = sess.run(cost, feed_dict={X:train_X, Y:train_Y})\n",
    "    print(\"Training Cost : %f\" % training_cost)\n",
    "# 画图\n",
    "    plt.plot(train_X, train_Y,'ro', label=\"Original data\")\n",
    "    plt.plot(train_X, sess.run(W) * train_X + sess.run(b), label=\"Fitted line\")\n",
    "    plt.legend()\n",
    "    plt.show()"
   ]
  },
  {
   "cell_type": "code",
   "execution_count": null,
   "metadata": {
    "collapsed": true
   },
   "outputs": [],
   "source": []
  }
 ],
 "metadata": {
  "kernelspec": {
   "display_name": "Python 3",
   "language": "python",
   "name": "python3"
  },
  "language_info": {
   "codemirror_mode": {
    "name": "ipython",
    "version": 3
   },
   "file_extension": ".py",
   "mimetype": "text/x-python",
   "name": "python",
   "nbconvert_exporter": "python",
   "pygments_lexer": "ipython3",
   "version": "3.5.4"
  }
 },
 "nbformat": 4,
 "nbformat_minor": 2
}
