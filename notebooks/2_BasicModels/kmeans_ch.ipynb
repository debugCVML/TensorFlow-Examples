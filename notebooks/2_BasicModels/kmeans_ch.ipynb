{
 "cells": [
  {
   "cell_type": "markdown",
   "metadata": {},
   "source": [
    "#  Kmeans 示例"
   ]
  },
  {
   "cell_type": "markdown",
   "metadata": {},
   "source": [
    "使用TensorFlow实现Kmeans算法，实验数据是yann的mnist手写数字数据库，用来做手写数字分类。"
   ]
  },
  {
   "cell_type": "code",
   "execution_count": 16,
   "metadata": {
    "collapsed": true
   },
   "outputs": [],
   "source": [
    "from __future__ import print_function\n",
    "\n",
    "import numpy as np\n",
    "import tensorflow as tf\n",
    "from tensorflow.contrib.factorization import KMeans\n",
    "\n",
    "import os\n",
    "\n",
    "os.environ[\"CUDA_VISIBLE_DEVICES\"]=\"\""
   ]
  },
  {
   "cell_type": "code",
   "execution_count": 17,
   "metadata": {},
   "outputs": [
    {
     "name": "stdout",
     "output_type": "stream",
     "text": [
      "Extracting /tmp/data/train-images-idx3-ubyte.gz\n",
      "Extracting /tmp/data/train-labels-idx1-ubyte.gz\n",
      "Extracting /tmp/data/t10k-images-idx3-ubyte.gz\n",
      "Extracting /tmp/data/t10k-labels-idx1-ubyte.gz\n"
     ]
    }
   ],
   "source": [
    "# 利用TensorFlow中的例程中的读取数据的模块，读取数据\n",
    "from tensorflow.examples.tutorials.mnist import input_data\n",
    "mnist = input_data.read_data_sets(\"/tmp/data\", one_hot=True)\n",
    "full_data_x = mnist.train.images"
   ]
  },
  {
   "cell_type": "code",
   "execution_count": 18,
   "metadata": {
    "collapsed": true
   },
   "outputs": [],
   "source": [
    "# 设置参数\n",
    "num_steps = 50\n",
    "batch_size = 1024\n",
    "k = 25\n",
    "num_classes= 10\n",
    "num_features= 28 * 28\n",
    "\n",
    "X = tf.placeholder(tf.float32, shape=[None, num_features])\n",
    "Y = tf.placeholder(tf.float32, shape=[None, num_classes])\n",
    "\n",
    "kmeans = KMeans(inputs=X, num_clusters= k, distance_metric='cosine',use_mini_batch=True)\n",
    "# 使用在TensorFlow中定义的KMeans类，初始化一个KMeans对象，这个类的init函数的参数由如下几个部分构成\n",
    "# __init__(\n",
    "#     inputs,  聚类数据\n",
    "#     num_clusters,  聚类个数\n",
    "#     initial_clusters=RANDOM_INIT,\n",
    "#     distance_metric=SQUARED_EUCLIDEAN_DISTANCE,\n",
    "#     use_mini_batch=False,\n",
    "#     mini_batch_steps_per_iteration=1,\n",
    "#     random_seed=0,\n",
    "#     kmeans_plus_plus_num_retries=2,\n",
    "#     kmc2_chain_length=200\n",
    "# )"
   ]
  },
  {
   "cell_type": "code",
   "execution_count": 29,
   "metadata": {
    "collapsed": true
   },
   "outputs": [],
   "source": [
    "# 创建计算图\n",
    "# 使用KMeans类中的training_graph创建一个聚类图，该函数的返回值是一个元组\n",
    "# A tuple consisting of: \n",
    "# all_scores: 一个维度是 (num_input, num_clusters)的矩阵，其中的值是一个每个数据与每个聚类中心的距离\n",
    "# cluster_idx：一个向量，每个元素值是每个数据对应的聚类中心的下标\n",
    "# scores：与cluster_idx类似，每个元素是每个数据对应聚类中心的距离\n",
    "# cluster_centers_initialized：标量，表示这个聚类中心是否被初始化\n",
    "# init_op：一个聚类的操作\n",
    "# training_op：运行一个迭代的训练操作\n",
    "(all_scores, cluster_idx, scores, cluster_centers_initialized,init_op,train_op)= kmeans.training_graph()\n",
    "# with tf.Session() as temp:\n",
    "#     print(temp.run(cluster_idx))\n",
    "cluster_idx = cluster_idx[0]\n",
    "avg_distance = tf.reduce_mean(scores)\n",
    "init_vars = tf.global_variables_initializer()"
   ]
  },
  {
   "cell_type": "code",
   "execution_count": 32,
   "metadata": {},
   "outputs": [
    {
     "name": "stdout",
     "output_type": "stream",
     "text": [
      "Step 1, Avg Distance :0.341471\n",
      "Step 10, Avg Distance :0.221609\n",
      "Step 20, Avg Distance :0.220328\n",
      "Step 30, Avg Distance :0.219776\n",
      "Step 40, Avg Distance :0.219419\n",
      "Step 50, Avg Distance :0.219154\n"
     ]
    }
   ],
   "source": [
    "# 开启一个Session\n",
    "sess = tf.Session()\n",
    "# 运行初始化\n",
    "sess.run(init_vars, feed_dict= {X: full_data_x})\n",
    "sess.run(init_op, feed_dict={X: full_data_x})\n",
    "\n",
    "# 训练\n",
    "for i in range(1, num_steps+1):\n",
    "    _, d, idx = sess.run([train_op, avg_distance, cluster_idx],feed_dict={X: full_data_x})\n",
    "    if i % 10 == 0 or i == 1:\n",
    "        print(\"Step %i, Avg Distance :%f\" % (i, d))"
   ]
  },
  {
   "cell_type": "code",
   "execution_count": 38,
   "metadata": {
    "collapsed": true
   },
   "outputs": [],
   "source": [
    "# 给每一个centeroid一个标签，计算每个标签的数量，对每个数据找距离当前数据最近的中心，这个最近中心的label就是这个数据的label\n",
    "counts = np.zeros(shape=(k, num_classes))\n",
    "for i in range(len(idx)):\n",
    "    counts[idx[i]] += mnist.train.labels[i]\n",
    "    \n",
    "labels_map = [np.argmax(c) for c in counts]\n",
    "labels_map = tf.convert_to_tensor(labels_map)\n",
    "## 我认为这里已经结束了，为啥还要进行测试"
   ]
  },
  {
   "cell_type": "code",
   "execution_count": null,
   "metadata": {
    "collapsed": true
   },
   "outputs": [],
   "source": []
  }
 ],
 "metadata": {
  "kernelspec": {
   "display_name": "Python 3",
   "language": "python",
   "name": "python3"
  },
  "language_info": {
   "codemirror_mode": {
    "name": "ipython",
    "version": 3
   },
   "file_extension": ".py",
   "mimetype": "text/x-python",
   "name": "python",
   "nbconvert_exporter": "python",
   "pygments_lexer": "ipython3",
   "version": "3.5.4"
  }
 },
 "nbformat": 4,
 "nbformat_minor": 2
}
