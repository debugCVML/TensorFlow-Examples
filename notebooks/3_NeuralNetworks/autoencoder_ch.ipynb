{
 "cells": [
  {
   "cell_type": "markdown",
   "metadata": {},
   "source": [
    "# 使用TensorFlow实现稀疏自编码"
   ]
  },
  {
   "cell_type": "code",
   "execution_count": 1,
   "metadata": {
    "collapsed": true
   },
   "outputs": [],
   "source": [
    "# 使用的数据库还是MNist，包含60000张训练图片，10000张测试图片，\n",
    "# 每个图像大小是28*28，被向量化成一个向量，维度是1*28×28，每个像素值被归一化成0-1之间\n",
    "\n",
    "from __future__ import print_function\n",
    "from __future__ import division\n",
    "from __future__ import absolute_import\n",
    "\n",
    "import tensorflow as tf\n",
    "import numpy as np"
   ]
  },
  {
   "cell_type": "code",
   "execution_count": 2,
   "metadata": {},
   "outputs": [
    {
     "name": "stdout",
     "output_type": "stream",
     "text": [
      "WARNING:tensorflow:From /home/ynzhang/anaconda3/envs/tensorflow/lib/python3.5/site-packages/tensorflow/contrib/learn/python/learn/datasets/base.py:198: retry (from tensorflow.contrib.learn.python.learn.datasets.base) is deprecated and will be removed in a future version.\n",
      "Instructions for updating:\n",
      "Use the retry module or similar alternatives.\n",
      "WARNING:tensorflow:From <ipython-input-2-e363c36ed181>:3: read_data_sets (from tensorflow.contrib.learn.python.learn.datasets.mnist) is deprecated and will be removed in a future version.\n",
      "Instructions for updating:\n",
      "Please use alternatives such as official/mnist/dataset.py from tensorflow/models.\n",
      "WARNING:tensorflow:From /home/ynzhang/anaconda3/envs/tensorflow/lib/python3.5/site-packages/tensorflow/contrib/learn/python/learn/datasets/mnist.py:260: maybe_download (from tensorflow.contrib.learn.python.learn.datasets.base) is deprecated and will be removed in a future version.\n",
      "Instructions for updating:\n",
      "Please write your own downloading logic.\n",
      "WARNING:tensorflow:From /home/ynzhang/anaconda3/envs/tensorflow/lib/python3.5/site-packages/tensorflow/contrib/learn/python/learn/datasets/mnist.py:262: extract_images (from tensorflow.contrib.learn.python.learn.datasets.mnist) is deprecated and will be removed in a future version.\n",
      "Instructions for updating:\n",
      "Please use tf.data to implement this functionality.\n",
      "Extracting /tmp/data/train-images-idx3-ubyte.gz\n",
      "WARNING:tensorflow:From /home/ynzhang/anaconda3/envs/tensorflow/lib/python3.5/site-packages/tensorflow/contrib/learn/python/learn/datasets/mnist.py:267: extract_labels (from tensorflow.contrib.learn.python.learn.datasets.mnist) is deprecated and will be removed in a future version.\n",
      "Instructions for updating:\n",
      "Please use tf.data to implement this functionality.\n",
      "Extracting /tmp/data/train-labels-idx1-ubyte.gz\n",
      "WARNING:tensorflow:From /home/ynzhang/anaconda3/envs/tensorflow/lib/python3.5/site-packages/tensorflow/contrib/learn/python/learn/datasets/mnist.py:110: dense_to_one_hot (from tensorflow.contrib.learn.python.learn.datasets.mnist) is deprecated and will be removed in a future version.\n",
      "Instructions for updating:\n",
      "Please use tf.one_hot on tensors.\n",
      "Extracting /tmp/data/t10k-images-idx3-ubyte.gz\n",
      "Extracting /tmp/data/t10k-labels-idx1-ubyte.gz\n",
      "WARNING:tensorflow:From /home/ynzhang/anaconda3/envs/tensorflow/lib/python3.5/site-packages/tensorflow/contrib/learn/python/learn/datasets/mnist.py:290: DataSet.__init__ (from tensorflow.contrib.learn.python.learn.datasets.mnist) is deprecated and will be removed in a future version.\n",
      "Instructions for updating:\n",
      "Please use alternatives such as official/mnist/dataset.py from tensorflow/models.\n"
     ]
    }
   ],
   "source": [
    "# 读入数据\n",
    "from tensorflow.examples.tutorials.mnist import input_data\n",
    "mnist = input_data.read_data_sets(\"/tmp/data/\", one_hot=True)"
   ]
  },
  {
   "cell_type": "code",
   "execution_count": 3,
   "metadata": {
    "collapsed": true
   },
   "outputs": [],
   "source": [
    "# 设置学习参数和网络参数\n",
    "learning_rate = 0.01\n",
    "num_steps = 30000\n",
    "batch_size = 256\n",
    "\n",
    "display_step = 1000\n",
    "example_to_show = 10\n",
    "\n",
    "num_hidden_1 = 256\n",
    "num_hidden_2 = 128\n",
    "num_input = 784\n",
    "\n",
    "X = tf.placeholder(dtype=tf.float32, shape=[None, 784])\n",
    "\n",
    "Weights = {\n",
    "    'encoder_b1':tf.Variable(tf.random_normal([num_input, num_hidden_1])),\n",
    "    'encoder_b2':tf.Variable(tf.random_normal([num_hidden_1, num_hidden_2])),\n",
    "    'decoder_b1':tf.Variable(tf.random_normal([num_hidden_2, num_hidden_1])),\n",
    "    'decoder_b2':tf.Variable(tf.random_normal([num_hidden_1, num_input])),\n",
    "}\n",
    "\n",
    "biases = {\n",
    "    'encoder_b1' : tf.Variable(tf.random_normal([num_hidden_1])),\n",
    "    'encoder_b2' : tf.Variable(tf.random_normal([num_hidden_2])),\n",
    "    'decoder_b1' : tf.Variable(tf.random_normal([num_hidden_1])),\n",
    "    'decoder_b2' : tf.Variable(tf.random_normal([num_input]))\n",
    "}"
   ]
  },
  {
   "cell_type": "code",
   "execution_count": 4,
   "metadata": {
    "collapsed": true
   },
   "outputs": [],
   "source": [
    "# 定义编码和解码网络\n",
    "def coder(X):\n",
    "    layer1 = tf.nn.sigmoid(tf.add(tf.matmul(X, Weights['encoder_b1']),biases['encoder_b1']))\n",
    "    layer2 = tf.nn.sigmoid(tf.add(tf.matmul(layer1, Weights['encoder_b2']), biases['encoder_b2']))\n",
    "    return layer2\n",
    "\n",
    "def decoder(X):\n",
    "    layer1 = tf.nn.sigmoid(tf.add(tf.matmul(X, Weights['decoder_b1']), biases['decoder_b1']))\n",
    "    layer2 = tf.nn.sigmoid(tf.add(tf.matmul(layer1, Weights['decoder_b2']), biases['decoder_b2']))\n",
    "    return layer2\n",
    "\n",
    "encoder_op = coder(X)\n",
    "decoder_op = decoder(encoder_op)\n",
    "\n",
    "y_pred = decoder_op\n",
    "y_true = X\n",
    "\n",
    "loss = tf.reduce_mean(tf.pow(y_pred - y_true, 2))\n",
    "optimizer = tf.train.RMSPropOptimizer(learning_rate).minimize(loss)\n",
    "\n",
    "init = tf.global_variables_initializer()"
   ]
  },
  {
   "cell_type": "code",
   "execution_count": 5,
   "metadata": {},
   "outputs": [
    {
     "name": "stdout",
     "output_type": "stream",
     "text": [
      "Step 1000 Minibatch Loss 0.143589\n",
      "Step 2000 Minibatch Loss 0.128189\n",
      "Step 3000 Minibatch Loss 0.115562\n",
      "Step 4000 Minibatch Loss 0.109977\n",
      "Step 5000 Minibatch Loss 0.103183\n",
      "Step 6000 Minibatch Loss 0.098253\n",
      "Step 7000 Minibatch Loss 0.094261\n",
      "Step 8000 Minibatch Loss 0.089432\n",
      "Step 9000 Minibatch Loss 0.089975\n",
      "Step 10000 Minibatch Loss 0.086039\n",
      "Step 11000 Minibatch Loss 0.085127\n",
      "Step 12000 Minibatch Loss 0.082519\n",
      "Step 13000 Minibatch Loss 0.079952\n",
      "Step 14000 Minibatch Loss 0.075283\n",
      "Step 15000 Minibatch Loss 0.076796\n",
      "Step 16000 Minibatch Loss 0.072222\n",
      "Step 17000 Minibatch Loss 0.066895\n",
      "Step 18000 Minibatch Loss 0.066293\n",
      "Step 19000 Minibatch Loss 0.063269\n",
      "Step 20000 Minibatch Loss 0.063617\n",
      "Step 21000 Minibatch Loss 0.063638\n",
      "Step 22000 Minibatch Loss 0.061045\n",
      "Step 23000 Minibatch Loss 0.059440\n",
      "Step 24000 Minibatch Loss 0.059871\n",
      "Step 25000 Minibatch Loss 0.060660\n",
      "Step 26000 Minibatch Loss 0.056522\n",
      "Step 27000 Minibatch Loss 0.053675\n",
      "Step 28000 Minibatch Loss 0.055029\n",
      "Step 29000 Minibatch Loss 0.052804\n",
      "Step 30000 Minibatch Loss 0.052596\n"
     ]
    }
   ],
   "source": [
    "# 开始训练\n",
    "sess = tf.Session()\n",
    "\n",
    "sess.run(init)\n",
    "\n",
    "for i in range(1, num_steps + 1):\n",
    "    batch_x, _ = mnist.train.next_batch(batch_size)\n",
    "    \n",
    "    _, l = sess.run([optimizer, loss], feed_dict={X:batch_x})\n",
    "    \n",
    "    if i % display_step == 0:\n",
    "        print('Step %i' % i + \" Minibatch Loss %f\" % l)"
   ]
  },
  {
   "cell_type": "code",
   "execution_count": 6,
   "metadata": {},
   "outputs": [
    {
     "name": "stdout",
     "output_type": "stream",
     "text": [
      "原始图像\n"
     ]
    },
    {
     "data": {
      "image/png": "[encoded data removed]",
      "text/plain": [
       "<matplotlib.figure.Figure at 0x7efba788f9e8>"
      ]
     },
     "metadata": {},
     "output_type": "display_data"
    },
    {
     "name": "stdout",
     "output_type": "stream",
     "text": [
      "自编码恢复后的图像\n"
     ]
    },
    {
     "data": {
      "image/png": "[encoded data removed]",
      "text/plain": [
       "<matplotlib.figure.Figure at 0x7efba0b0cfd0>"
      ]
     },
     "metadata": {},
     "output_type": "display_data"
    }
   ],
   "source": [
    "# 测试一下\n",
    "import matplotlib.pyplot as plt\n",
    "\n",
    "n = 4\n",
    "canvas_origin = np.empty((n * 28, n * 28))\n",
    "canvas_recog = np.empty((n * 28, n* 28))\n",
    "for i in range(n):\n",
    "    batch_x, _ = mnist.test.next_batch(n)\n",
    "    g = sess.run(decoder_op, feed_dict={X: batch_x})\n",
    "    for j in range(n):\n",
    "        canvas_origin[i * 28 :(i+1)*28, j*28 :(j+1)*28]= batch_x[j].reshape([28,28])\n",
    "        \n",
    "    for j in range(n):\n",
    "        canvas_recog[i * 28 : (i +1)*28, j * 28:(j+1)*28] = g[j].reshape([28,28])\n",
    "        \n",
    "print(\"原始图像\")\n",
    "plt.figure(figsize=(n, n))\n",
    "plt.imshow(canvas_origin, origin=\"upper\", cmap=\"gray\")\n",
    "plt.show()\n",
    "\n",
    "print(\"自编码恢复后的图像\")\n",
    "plt.figure(figsize=(n,n))\n",
    "plt.imshow(canvas_recog, origin=\"upper\", cmap=\"gray\")\n",
    "plt.show()"
   ]
  },
  {
   "cell_type": "code",
   "execution_count": null,
   "metadata": {
    "collapsed": true
   },
   "outputs": [],
   "source": []
  }
 ],
 "metadata": {
  "kernelspec": {
   "display_name": "Python 3",
   "language": "python",
   "name": "python3"
  },
  "language_info": {
   "codemirror_mode": {
    "name": "ipython",
    "version": 3
   },
   "file_extension": ".py",
   "mimetype": "text/x-python",
   "name": "python",
   "nbconvert_exporter": "python",
   "pygments_lexer": "ipython3",
   "version": "3.5.4"
  }
 },
 "nbformat": 4,
 "nbformat_minor": 2
}
