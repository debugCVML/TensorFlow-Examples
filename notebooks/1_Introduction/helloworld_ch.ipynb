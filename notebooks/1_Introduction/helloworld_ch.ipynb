{
 "cells": [
  {
   "cell_type": "markdown",
   "metadata": {},
   "source": [
    "# TensorFlow版的HelloWorld"
   ]
  },
  {
   "cell_type": "code",
   "execution_count": 1,
   "metadata": {},
   "outputs": [
    {
     "name": "stdout",
     "output_type": "stream",
     "text": [
      "Tensor(\"Const:0\", shape=(), dtype=string)\n",
      "b'Hello World'\n"
     ]
    }
   ],
   "source": [
    "# 引入TensorFlow库\n",
    "import tensorflow as tf\n",
    "\n",
    "# 创建一个常量\n",
    "hello = tf.constant(\"Hello World\")\n",
    "\n",
    "# 打印一下试试\n",
    "print(hello)\n",
    "\n",
    "# 创建一个Session\n",
    "sess = tf.Session()\n",
    "\n",
    "# 用session运行\n",
    "print(sess.run(hello))\n"
   ]
  },
  {
   "cell_type": "code",
   "execution_count": null,
   "metadata": {
    "collapsed": true
   },
   "outputs": [],
   "source": []
  }
 ],
 "metadata": {
  "kernelspec": {
   "display_name": "Python 3",
   "language": "python",
   "name": "python3"
  },
  "language_info": {
   "codemirror_mode": {
    "name": "ipython",
    "version": 3
   },
   "file_extension": ".py",
   "mimetype": "text/x-python",
   "name": "python",
   "nbconvert_exporter": "python",
   "pygments_lexer": "ipython3",
   "version": "3.5.4"
  }
 },
 "nbformat": 4,
 "nbformat_minor": 2
}
